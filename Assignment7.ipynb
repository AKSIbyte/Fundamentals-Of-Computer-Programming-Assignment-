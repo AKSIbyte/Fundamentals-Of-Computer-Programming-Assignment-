{
  "nbformat": 4,
  "nbformat_minor": 0,
  "metadata": {
    "colab": {
      "provenance": []
    },
    "kernelspec": {
      "name": "python3",
      "display_name": "Python 3"
    },
    "language_info": {
      "name": "python"
    }
  },
  "cells": [
    {
      "cell_type": "code",
      "source": [
        "#Q1 Function to find return the largest of three numbers\n",
        "def find_largest(num1, num2, num3):\n",
        "    # To Compare the three numbers and return the largest one\n",
        "    if num1 >= num2 and num1 >= num3:\n",
        "        return num1\n",
        "    elif num2 >= num1 and num2 >= num3:\n",
        "        return num2\n",
        "    else:\n",
        "        return num3\n",
        "\n",
        "# To take input from the user and display the result\n",
        "def main():\n",
        "    print(\"Largest of Three Numbers\")\n",
        "\n",
        "    # Taking input from the user\n",
        "    try:\n",
        "        first = float(input(\"Enter the first number: \"))\n",
        "        second = float(input(\"Enter the second number: \"))\n",
        "        third= float(input(\"Enter the third number: \"))\n",
        "        largest_number = find_largest(first, second, third)\n",
        "        print(f\"\\nThe largest number among {first}, {second}, and {third} is: {largest}\")\n",
        "\n",
        "    except ValueError:\n",
        "        print(\"Invalid input! Please enter valid numbers.\")\n",
        "if __name__ == \"__main__\":\n",
        "    main()\n"
      ],
      "metadata": {
        "colab": {
          "base_uri": "https://localhost:8080/"
        },
        "id": "4br08DapBLCf",
        "outputId": "d8e7bfe8-2af6-4842-a322-f3fd306eb51a"
      },
      "execution_count": null,
      "outputs": [
        {
          "output_type": "stream",
          "name": "stdout",
          "text": [
            "Largest of Three Numbers\n",
            "Please enter the first number: .2\n",
            "Please enter the second number: -1\n",
            "Please enter the third number: 4.1\n",
            "\n",
            "The largest number among 0.2, -1.0, and 4.1 is: 4.1\n"
          ]
        }
      ]
    },
    {
      "cell_type": "code",
      "source": [
        "# Q2 Write a recursive function to return the factorial of a number.\n",
        "\n",
        "# Function to calculate the factorial of a number using recursion\n",
        "def factorial_recursive(n):\n",
        "    if n == 0 or n == 1:\n",
        "        return 1\n",
        "    else:\n",
        "        return n * factorial_recursive(n - 1)\n",
        "\n",
        "\n",
        "# Input from the user for the number\n",
        "try:\n",
        "    num = int(input(\"Enter a non-negative integer: \"))\n",
        "    if num < 0:\n",
        "        print(\"Factorial is not defined for negative numbers.\")\n",
        "    else:\n",
        "        result = factorial_recursive(num)\n",
        "        print(f\"The factorial of {num} is: {result}\")\n",
        "except ValueError:\n",
        "    print(\"Invalid input! Please enter a valid integer.\")\n"
      ],
      "metadata": {
        "colab": {
          "base_uri": "https://localhost:8080/"
        },
        "id": "xHpaIHjZ_EBp",
        "outputId": "9becc726-08c9-4ea6-f32d-c683044ac607"
      },
      "execution_count": null,
      "outputs": [
        {
          "output_type": "stream",
          "name": "stdout",
          "text": [
            "Enter a non-negative integer: 11\n",
            "The factorial of 11 is: 39916800\n"
          ]
        }
      ]
    },
    {
      "cell_type": "code",
      "source": [
        "# Q3 Write a function to return the Fibonacci series. Pass n as parameter in the function.\n",
        "# Fibonacci series: 0,1,1,2,3,5…n\n",
        "\n",
        "def fibonacci_series(n):\n",
        "    \"\"\"\n",
        "    Returns: A list containing the Fibonacci series up to n terms.\n",
        "    \"\"\"\n",
        "    if n <= 0:\n",
        "        return []\n",
        "    elif n == 1:\n",
        "        return [0]\n",
        "    else:\n",
        "        list_fib = [0, 1]\n",
        "        while len(list_fib) < n:\n",
        "            next_fib = list_fib[-1] + list_fib[-2]\n",
        "            list_fib.append(next_fib)\n",
        "        return list_fib\n",
        "\n",
        "\n",
        "# Input from the user for the number of terms\n",
        "try:\n",
        "    num_terms = int(input(\"Enter the number of terms for the Fibonacci series: \"))\n",
        "    if num_terms < 0:\n",
        "        print(\"Please enter a non-negative integer.\")\n",
        "    else:\n",
        "        fib_series = fibonacci_series(num_terms)\n",
        "        print(f\"The Fibonacci series with {num_terms} terms is: {fib_series}\")\n",
        "except ValueError:\n",
        "    print(\"Enter a valid integer.\")\n"
      ],
      "metadata": {
        "colab": {
          "base_uri": "https://localhost:8080/"
        },
        "id": "RWXq5NpUBC8D",
        "outputId": "3fafacf5-dc01-46fd-ff64-57f56ad45df5"
      },
      "execution_count": null,
      "outputs": [
        {
          "output_type": "stream",
          "name": "stdout",
          "text": [
            "Enter the number of terms for the Fibonacci series: 12\n",
            "The Fibonacci series with 12 terms is: [0, 1, 1, 2, 3, 5, 8, 13, 21, 34, 55, 89]\n"
          ]
        }
      ]
    },
    {
      "cell_type": "code",
      "source": [
        "# Q4* Write a function to check whether a given coordinate lies inside or outside the circle.\n",
        " #Take the centre of the circle, radius of the circle and the coordinate as function arguments.\n",
        "\n",
        "import math\n",
        "def check_point_in_circle(circle_x, circle_y, radius, point_x, point_y):\n",
        "    #   Dist between the circle's center and the point\n",
        "    distance = math.sqrt((point_x - circle_x) ** 2 + (point_y - circle_y) ** 2)\n",
        "    if distance < radius:\n",
        "        return \"inside\"\n",
        "    elif distance == radius:\n",
        "        return \"on\"\n",
        "    else:\n",
        "        return \"outside\"\n",
        "def main():\n",
        "    print(\"Cooridnates\")\n",
        "\n",
        "    try:\n",
        "        # Taking inputs for the circle's center and radius\n",
        "        circle_x = float(input(\"Enter the X coordinate of the circle's center: \"))\n",
        "        circle_y = float(input(\"Enter the Y coordinate of the circle's center: \"))\n",
        "        radius = float(input(\"Enter the radius of the circle: \"))\n",
        "\n",
        "        # Taking inputs for the point to check\n",
        "        point_x = float(input(\"Enter the X coordinate of the point: \"))\n",
        "        point_y = float(input(\"Enter the Y coordinate of the point: \"))\n",
        "\n",
        "        # Check if the point is inside, on, or outside the circle\n",
        "        result = check_point_in_circle(circle_x, circle_y, radius, point_x, point_y)\n",
        "\n",
        "        # Display the result\n",
        "        print(f\"\\nThe point ({point_x}, {point_y}) is {result} the circle with center ({circle_x}, {circle_y}) and radius {radius}.\")\n",
        "\n",
        "    except ValueError:\n",
        "        print(\"Enter valid values.\")\n",
        "if __name__ == \"__main__\":\n",
        "    main()\n"
      ],
      "metadata": {
        "colab": {
          "base_uri": "https://localhost:8080/"
        },
        "id": "aTW1q7btEANt",
        "outputId": "a3e74d1d-2648-4995-904e-ea5263184f8d"
      },
      "execution_count": null,
      "outputs": [
        {
          "output_type": "stream",
          "name": "stdout",
          "text": [
            "Cooridnates\n",
            "Enter the X coordinate of the circle's center: 3\n",
            "Enter the Y coordinate of the circle's center: 2\n",
            "Enter the radius of the circle: 11\n",
            "Enter the X coordinate of the point: 44\n",
            "Enter the Y coordinate of the point: 23\n",
            "\n",
            "The point (44.0, 23.0) is outside the circle with center (3.0, 2.0) and radius 11.0.\n"
          ]
        }
      ]
    }
  ]
}