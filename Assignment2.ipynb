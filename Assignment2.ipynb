{
  "nbformat": 4,
  "nbformat_minor": 0,
  "metadata": {
    "colab": {
      "provenance": []
    },
    "kernelspec": {
      "name": "python3",
      "display_name": "Python 3"
    },
    "language_info": {
      "name": "python"
    }
  },
  "cells": [
    {
      "cell_type": "code",
      "execution_count": null,
      "metadata": {
        "colab": {
          "base_uri": "https://localhost:8080/"
        },
        "id": "qxerh7st0lnA",
        "outputId": "5e8b85bd-5bb3-4ba9-dbd5-8cef5628afa0"
      },
      "outputs": [
        {
          "output_type": "stream",
          "name": "stdout",
          "text": [
            "Enter your Age : 100\n",
            "I am a senior citizen\n"
          ]
        }
      ],
      "source": [
        "\n",
        "age = int(input(\"Enter your Age : \"))\n",
        "\n",
        "if   age < 18:\n",
        "     print (\"I am a teenger\")\n",
        "elif age < 40:\n",
        "     print (\"I am in my young age\")\n",
        "else:\n",
        "     print (\"I am a senior citizen\")"
      ]
    },
    {
      "cell_type": "markdown",
      "source": [],
      "metadata": {
        "id": "wpbQnlJS9nbE"
      }
    },
    {
      "cell_type": "code",
      "source": [
        "2>3"
      ],
      "metadata": {
        "colab": {
          "base_uri": "https://localhost:8080/"
        },
        "id": "Q_VjuAy09kEu",
        "outputId": "9578d2b9-5034-42f1-f784-975089054770"
      },
      "execution_count": null,
      "outputs": [
        {
          "output_type": "execute_result",
          "data": {
            "text/plain": [
              "False"
            ]
          },
          "metadata": {},
          "execution_count": 9
        }
      ]
    },
    {
      "cell_type": "code",
      "source": [
        "2<3\n"
      ],
      "metadata": {
        "colab": {
          "base_uri": "https://localhost:8080/"
        },
        "id": "O4VVLHvA9kHd",
        "outputId": "00483d94-da2b-40bb-f81a-283167ed104e"
      },
      "execution_count": null,
      "outputs": [
        {
          "output_type": "execute_result",
          "data": {
            "text/plain": [
              "True"
            ]
          },
          "metadata": {},
          "execution_count": 10
        }
      ]
    },
    {
      "cell_type": "code",
      "source": [
        "2>=2"
      ],
      "metadata": {
        "colab": {
          "base_uri": "https://localhost:8080/"
        },
        "id": "ssi451xT9kJt",
        "outputId": "ab29c695-6174-4b3b-b527-3b9c993468ef"
      },
      "execution_count": null,
      "outputs": [
        {
          "output_type": "execute_result",
          "data": {
            "text/plain": [
              "True"
            ]
          },
          "metadata": {},
          "execution_count": 12
        }
      ]
    },
    {
      "cell_type": "code",
      "source": [
        "2<=2"
      ],
      "metadata": {
        "colab": {
          "base_uri": "https://localhost:8080/"
        },
        "id": "jOxquj2K9kL8",
        "outputId": "333e7eaa-fd76-4930-ee13-7f1d1f89520a"
      },
      "execution_count": null,
      "outputs": [
        {
          "output_type": "execute_result",
          "data": {
            "text/plain": [
              "True"
            ]
          },
          "metadata": {},
          "execution_count": 13
        }
      ]
    },
    {
      "cell_type": "code",
      "source": [
        "2!=2"
      ],
      "metadata": {
        "colab": {
          "base_uri": "https://localhost:8080/"
        },
        "id": "DHvf6KBF9kON",
        "outputId": "f4a56b61-b877-4f1d-80af-010a813fe4a1"
      },
      "execution_count": null,
      "outputs": [
        {
          "output_type": "execute_result",
          "data": {
            "text/plain": [
              "False"
            ]
          },
          "metadata": {},
          "execution_count": 14
        }
      ]
    },
    {
      "cell_type": "code",
      "source": [
        "3==3"
      ],
      "metadata": {
        "colab": {
          "base_uri": "https://localhost:8080/"
        },
        "id": "5y6OIcJd9kQ3",
        "outputId": "c89e5a61-628b-41cd-df92-2defab6d5ec4"
      },
      "execution_count": null,
      "outputs": [
        {
          "output_type": "execute_result",
          "data": {
            "text/plain": [
              "True"
            ]
          },
          "metadata": {},
          "execution_count": 15
        }
      ]
    },
    {
      "cell_type": "code",
      "source": [
        "2+3"
      ],
      "metadata": {
        "colab": {
          "base_uri": "https://localhost:8080/"
        },
        "id": "dfJJvt6M9kS1",
        "outputId": "51fe422f-6db7-4578-d10e-4469f2e62670"
      },
      "execution_count": null,
      "outputs": [
        {
          "output_type": "execute_result",
          "data": {
            "text/plain": [
              "5"
            ]
          },
          "metadata": {},
          "execution_count": 16
        }
      ]
    },
    {
      "cell_type": "code",
      "source": [
        "3-2"
      ],
      "metadata": {
        "colab": {
          "base_uri": "https://localhost:8080/"
        },
        "id": "LkISK4FR9kVN",
        "outputId": "b1ae969a-410a-4168-88e3-3bbcc3f9c346"
      },
      "execution_count": null,
      "outputs": [
        {
          "output_type": "execute_result",
          "data": {
            "text/plain": [
              "1"
            ]
          },
          "metadata": {},
          "execution_count": 17
        }
      ]
    },
    {
      "cell_type": "code",
      "source": [
        "c= 2/2\n",
        "d = 3//2\n",
        "e = 3%2\n",
        "f = 3**2\n",
        "\n",
        "print (c)\n",
        "print (d)\n",
        "print (e)\n",
        "print (f)\n"
      ],
      "metadata": {
        "colab": {
          "base_uri": "https://localhost:8080/"
        },
        "id": "FGmzGnmj9kXk",
        "outputId": "5339d1ba-1f2d-42c7-fcb9-a0190568451a"
      },
      "execution_count": null,
      "outputs": [
        {
          "output_type": "stream",
          "name": "stdout",
          "text": [
            "1.0\n",
            "1\n",
            "1\n",
            "9\n"
          ]
        }
      ]
    },
    {
      "cell_type": "code",
      "source": [
        "a = (2>3) and (4>2)\n",
        "b = (2>3) or (4>2)\n",
        "c = not(2>3)\n",
        "d = not(True)\n",
        "\n",
        "print (a)\n",
        "print (b)\n",
        "print (c)\n",
        "print (d)"
      ],
      "metadata": {
        "colab": {
          "base_uri": "https://localhost:8080/"
        },
        "id": "zH2PIa6E9kaF",
        "outputId": "3536157e-b73d-4526-f57a-1d54e113fde9"
      },
      "execution_count": null,
      "outputs": [
        {
          "output_type": "stream",
          "name": "stdout",
          "text": [
            "False\n",
            "True\n",
            "True\n",
            "False\n"
          ]
        }
      ]
    },
    {
      "cell_type": "code",
      "source": [
        "i = 10\n",
        "b = print(type(i))\n",
        "c = print(id(i))\n",
        "\n",
        "print (b)\n",
        "print (c)"
      ],
      "metadata": {
        "colab": {
          "base_uri": "https://localhost:8080/"
        },
        "id": "r1lvkNOZCQiE",
        "outputId": "4bab6037-1198-4325-8b8b-fe1d807d610d"
      },
      "execution_count": null,
      "outputs": [
        {
          "output_type": "stream",
          "name": "stdout",
          "text": [
            "<class 'int'>\n",
            "135510176547344\n",
            "None\n",
            "None\n"
          ]
        }
      ]
    },
    {
      "cell_type": "code",
      "source": [],
      "metadata": {
        "id": "hFLnTX_ICQaU"
      },
      "execution_count": null,
      "outputs": []
    },
    {
      "cell_type": "code",
      "source": [
        "i=10 #Variable i is implicitly declared as integer type. Variable i is initialized to 10.\n",
        "j=int(10) #Variable j is explicitly declared as integer type. Variable j is initialized to 10.\n",
        "k =1.5 # Variable k is implicitly declared as float type. Variable j is initialized to 1.5.\n",
        "l=float(10.5) # Variable l is implicitly declared as float type. Variable l is initialized to 1.5.\n",
        "m= 'Anil is a good person' # Variable m is implicitly declared as string type. Variable m is initialized to “Anil is a good person”.\n",
        "n= str('Anil is a good person') # Variable n is explicitly declared as string type.\n",
        "o=False # Variable o is implicitly declared as boolean type. Variable o is initialized to False.\n",
        "p=bool(True) # Variable p is explicitly declared as boolean type. Variable p is initialized to True.\n",
        "q=10+5j # Variable q is implicitly declared as complex type. Variable q is initialized to 10+5j.\n",
        "r=complex(10+5j) # Variable r is explicitly declared as complex type. Variable r is initialized to 10+5j.\n",
        "\n",
        "print (i)\n",
        "print (j)\n",
        "print (k)\n",
        "print (l)\n",
        "print (m)\n",
        "print (n)\n",
        "print (o)\n",
        "print (p)\n",
        "print (q)\n",
        "print (r)"
      ],
      "metadata": {
        "colab": {
          "base_uri": "https://localhost:8080/"
        },
        "id": "Zm0NzZiF9kcd",
        "outputId": "335c98ba-48ac-47e7-a8bd-3f6eaea8b627"
      },
      "execution_count": null,
      "outputs": [
        {
          "output_type": "stream",
          "name": "stdout",
          "text": [
            "10\n",
            "10\n",
            "1.5\n",
            "10.5\n",
            "Anil is a good person\n",
            "Anil is a good person\n",
            "False\n",
            "True\n",
            "(10+5j)\n",
            "(10+5j)\n"
          ]
        }
      ]
    },
    {
      "cell_type": "code",
      "source": [
        "a = print(12, \"is larger than\", 11)\n",
        "b = print(\"Sum of\",2, \"and\",3, \"is\", 2+3)\n",
        "c = print(\"Hi\\nHi\\nHi\")\n",
        "d = print(\"Hi\\tHi\\tHi\")\n",
        "e = print(\"Hi\",end= \"**\")\n",
        "print(\"Hi\", end= \"\")\n",
        "print(\"Hi\")\n",
        "name = \" Alice\"\n",
        "age = 30\n",
        "print(f\"{name} is {age} years old\")"
      ],
      "metadata": {
        "colab": {
          "base_uri": "https://localhost:8080/"
        },
        "id": "6Ng8fy799kfB",
        "outputId": "a62ae981-a165-4aad-8585-e683150d86d2"
      },
      "execution_count": null,
      "outputs": [
        {
          "output_type": "stream",
          "name": "stdout",
          "text": [
            "12 is larger than 11\n",
            "Sum of 2 and 3 is 5\n",
            "Hi\n",
            "Hi\n",
            "Hi\n",
            "Hi\tHi\tHi\n",
            "Hi**HiHi\n",
            " Alice is 30 years old\n"
          ]
        }
      ]
    },
    {
      "cell_type": "code",
      "source": [
        "i=10.5\n",
        "print(type(i))\n",
        "j=int(i)\n",
        "print(j,type(j))\n",
        "\n",
        "print (i)\n",
        "print (j)"
      ],
      "metadata": {
        "colab": {
          "base_uri": "https://localhost:8080/"
        },
        "id": "oAZjT3UP9khN",
        "outputId": "e8324fd0-7117-44f7-f935-6cbc458e178f"
      },
      "execution_count": null,
      "outputs": [
        {
          "output_type": "stream",
          "name": "stdout",
          "text": [
            "<class 'float'>\n",
            "10 <class 'int'>\n",
            "10.5\n",
            "10\n"
          ]
        }
      ]
    },
    {
      "cell_type": "code",
      "source": [
        "# program to take marks as input from the user and determines the corresponding grade.\n",
        "\n",
        "while True:\n",
        "  try:\n",
        "    marks = int(input(\"Enter your marks (0-100): \"))\n",
        "    if 0 <= marks <= 100:\n",
        "      break\n",
        "    else:\n",
        "      print(\"Invalid input. Marks must be between 0 and 100.\")\n",
        "  except ValueError:\n",
        "    print(\"Invalid input. Please enter a number.\")\n",
        "\n",
        "if marks > 90 and marks <=100:\n",
        "  grade = 'A'\n",
        "elif marks > 70 and marks <=90:\n",
        "  grade = 'B'\n",
        "elif marks > 50 and marks <=70:\n",
        "  grade = 'C'\n",
        "else:\n",
        "  grade = 'Fail'\n",
        "\n",
        "print(f\"Your grade is: {grade}\")\n"
      ],
      "metadata": {
        "colab": {
          "base_uri": "https://localhost:8080/"
        },
        "id": "jGPORu-j9kj0",
        "outputId": "e0527f59-f6b5-4a70-a8c9-f3f15af21ea7"
      },
      "execution_count": null,
      "outputs": [
        {
          "output_type": "stream",
          "name": "stdout",
          "text": [
            "Enter your marks (0-100): 97\n",
            "Your grade is: A\n"
          ]
        }
      ]
    },
    {
      "cell_type": "code",
      "source": [
        "# program to take a number as input and check the number is even or odd\n",
        "\n",
        "num = int(input(\"Enter a number: \"))\n",
        "if num % 2 == 0:\n",
        "  print(num, \"is even\")\n",
        "else:\n",
        "  print(num, \"is odd\")\n"
      ],
      "metadata": {
        "colab": {
          "base_uri": "https://localhost:8080/"
        },
        "id": "gCbqiyKl9kl9",
        "outputId": "5a6c2a8e-1bdf-496b-adcb-45b697feef65"
      },
      "execution_count": null,
      "outputs": [
        {
          "output_type": "stream",
          "name": "stdout",
          "text": [
            "Enter a number: 5\n",
            "5 is odd\n"
          ]
        }
      ]
    },
    {
      "cell_type": "code",
      "source": [
        "# program to take a number as input. Check whether the number is divisible by both 3 and 7.\n",
        "\n",
        "num = int(input(\"Enter a number: \"))\n",
        "if num % 3 == 0 and num % 7 == 0:\n",
        "  print(num, \"is divisible by both 3 and 7\")\n",
        "else:\n",
        "  print(num, \"is not divisible by both 3 and 7\")\n"
      ],
      "metadata": {
        "colab": {
          "base_uri": "https://localhost:8080/"
        },
        "id": "zPI-lEh69krB",
        "outputId": "1f68ef28-7dd7-4654-a828-6add0f9b367a"
      },
      "execution_count": null,
      "outputs": [
        {
          "output_type": "stream",
          "name": "stdout",
          "text": [
            "Enter a number: 33\n",
            "33 is not divisible by both 3 and 7\n"
          ]
        }
      ]
    },
    {
      "cell_type": "code",
      "source": [
        "# program to add two complex numbers.\n",
        "\n",
        "num1 = complex(input(\"Enter the first complex number: \"))\n",
        "num2 = complex(input(\"Enter the second complex number: \"))\n",
        "\n",
        "sum = num1 + num2\n",
        "\n",
        "print(\"The sum of the two complex numbers is:\", sum)\n"
      ],
      "metadata": {
        "colab": {
          "base_uri": "https://localhost:8080/"
        },
        "id": "UdZ77QpR9ktN",
        "outputId": "8fcd4513-a83f-43b4-c2b8-834f4d546175"
      },
      "execution_count": null,
      "outputs": [
        {
          "output_type": "stream",
          "name": "stdout",
          "text": [
            "Enter the first complex number: 3+4j\n",
            "Enter the second complex number: 4+5j\n",
            "The sum of the two complex numbers is: (7+9j)\n"
          ]
        }
      ]
    },
    {
      "cell_type": "code",
      "source": [
        "2>3"
      ],
      "metadata": {
        "colab": {
          "base_uri": "https://localhost:8080/"
        },
        "id": "2JNLbM_u6skJ",
        "outputId": "842c0720-22f4-463a-f55a-36267dd8ec6e"
      },
      "execution_count": null,
      "outputs": [
        {
          "output_type": "execute_result",
          "data": {
            "text/plain": [
              "False"
            ]
          },
          "metadata": {},
          "execution_count": 7
        }
      ]
    }
  ]
}