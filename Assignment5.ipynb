{
  "nbformat": 4,
  "nbformat_minor": 0,
  "metadata": {
    "colab": {
      "provenance": []
    },
    "kernelspec": {
      "name": "python3",
      "display_name": "Python 3"
    },
    "language_info": {
      "name": "python"
    }
  },
  "cells": [
    {
      "cell_type": "code",
      "source": [
        "#Q1 (a)\tSum of the series 1+2+3+…n\n",
        "#Test cases: n=5, n=5.5 (incorrect input), n=# (incorrect input)\n",
        "\n",
        "def sum_of_series(n):\n",
        "  sum = 0\n",
        "  i=1\n",
        "  while i <= n:\n",
        "    sum += i\n",
        "    i+=1\n",
        "  return sum\n",
        "\n",
        "print(sum_of_series(5))\n",
        "print(sum_of_series(5.5))\n"
      ],
      "metadata": {
        "colab": {
          "base_uri": "https://localhost:8080/"
        },
        "id": "C5Gs75Ir6qia",
        "outputId": "301923a1-2552-4370-b375-51f38eff2bb5"
      },
      "execution_count": null,
      "outputs": [
        {
          "output_type": "stream",
          "name": "stdout",
          "text": [
            "15\n",
            "15\n"
          ]
        }
      ]
    },
    {
      "cell_type": "code",
      "source": [
        "#(b) Take a positive integer as input and print the individual digits seperately, Take input from user and Use while loop for this\n",
        "\n",
        "def print_digits(n):\n",
        "  if type(n) != int:\n",
        "    print(\"Please enter an integer\")\n",
        "    return\n",
        "  n_str = str(n)\n",
        "  for digit in n_str:\n",
        "    print(digit)\n",
        "\n",
        "print_digits(123)\n",
        "print_digits(123.5)\n",
        "print_digits(\"twelve\")\n"
      ],
      "metadata": {
        "colab": {
          "base_uri": "https://localhost:8080/"
        },
        "id": "kHgD2M0_6qky",
        "outputId": "27a91b96-6050-441b-ade1-030e8bf1db89"
      },
      "execution_count": null,
      "outputs": [
        {
          "output_type": "stream",
          "name": "stdout",
          "text": [
            "1\n",
            "2\n",
            "3\n",
            "Please enter an integer\n",
            "Please enter an integer\n"
          ]
        }
      ]
    },
    {
      "cell_type": "code",
      "source": [
        "#(c)\tWrite a program to demonstrate break, continue and pass.\n",
        "\n",
        "# break\n",
        "for i in range(10):\n",
        "  if i == 5:\n",
        "    break\n",
        "  print(i)\n",
        "\n",
        "# continue\n",
        "for i in range(10):\n",
        "  ifi % 2 == 0:\n",
        "    continue\n",
        "  print(i)\n",
        "\n",
        "# pass\n",
        "for i in range(10):\n",
        "  if i % 2 == 0:\n",
        "    pass\n",
        "  else:\n",
        "    print(i)\n"
      ],
      "metadata": {
        "colab": {
          "base_uri": "https://localhost:8080/"
        },
        "id": "780dEyJq6qpB",
        "outputId": "c47c9531-0971-4300-9d36-ca7c9b81284e"
      },
      "execution_count": null,
      "outputs": [
        {
          "output_type": "stream",
          "name": "stdout",
          "text": [
            "0\n",
            "1\n",
            "2\n",
            "3\n",
            "4\n",
            "1\n",
            "3\n",
            "5\n",
            "7\n",
            "9\n",
            "1\n",
            "3\n",
            "5\n",
            "7\n",
            "9\n"
          ]
        }
      ]
    },
    {
      "cell_type": "code",
      "source": [
        "#(d)\tWrite a program to check the given positive integer is prime or not.\n",
        "#Test cases: n=0(not a positive integer), n=1 (1 is neither prime nor composite), n=3 , n=-5 (it is a negative number), n= 10, n= Ten (not a positive integer)\n",
        "\n",
        "\n",
        "def print_factors(n):\n",
        "  if type(n) != int or n <= 0:\n",
        "    print(\"Please enter a positive integer\")\n",
        "    return\n",
        "\n",
        "  for i in range(1, n + 1):\n",
        "    if n % i == 0:\n",
        "      print(i)\n",
        "\n",
        "print_factors(123)\n",
        "print_factors(123.5)\n",
        "print_factors(0)\n",
        "print_factors(5)\n"
      ],
      "metadata": {
        "colab": {
          "base_uri": "https://localhost:8080/"
        },
        "id": "boAZuaz19-dR",
        "outputId": "6fe47285-4941-40d5-8958-646dcdb45072"
      },
      "execution_count": null,
      "outputs": [
        {
          "output_type": "stream",
          "name": "stdout",
          "text": [
            "1\n",
            "3\n",
            "41\n",
            "123\n",
            "Please enter a positive integer\n",
            "Please enter a positive integer\n",
            "1\n",
            "5\n"
          ]
        }
      ]
    },
    {
      "cell_type": "code",
      "source": [
        "#(e)\tWrite a program to check the given positive integer is prime or not.\n",
        "#Test cases: n=0(not a positive integer), n=1 (1 is neither prime nor composite), n=3 , n=-5 (it is a negative number), n= 10, n= Ten (not a positive integer)\n",
        "\n",
        "def is_prime(n):\n",
        "  if type(n) != int or n <= 1:\n",
        "    return False\n",
        "  for i in range(2, int(n**0.5) + 1):\n",
        "    if n % i == 0:\n",
        "      return False\n",
        "  return True\n",
        "\n",
        "print(is_prime(0))  # True\n",
        "print(is_prime(1))  # False\n",
        "print(is_prime(3))  # True\n",
        "print(is_prime(-5))  # True\n",
        "print(is_prime(10))  # False\n"
      ],
      "metadata": {
        "colab": {
          "base_uri": "https://localhost:8080/"
        },
        "id": "jpW421Pn6qwB",
        "outputId": "369b16f6-d83e-40a1-cafe-88c6dbb8a665"
      },
      "execution_count": null,
      "outputs": [
        {
          "output_type": "stream",
          "name": "stdout",
          "text": [
            "False\n",
            "False\n",
            "True\n",
            "False\n",
            "False\n"
          ]
        }
      ]
    },
    {
      "cell_type": "code",
      "source": [
        "#Q2 (a) print the series\n",
        "# 1\n",
        "# 11\n",
        "# 111\n",
        "# 1111\n",
        "# ..\n",
        "# ... n times\n",
        "\n",
        "def print_series(n):\n",
        "  for i in range(1, n + 1):\n",
        "    print(\"1\" * i)\n",
        "\n",
        "print_series(5)\n"
      ],
      "metadata": {
        "colab": {
          "base_uri": "https://localhost:8080/"
        },
        "id": "UE2R2q7e6qz5",
        "outputId": "029f711e-d5ca-4c6a-c3ee-0d1cf16290d3"
      },
      "execution_count": null,
      "outputs": [
        {
          "output_type": "stream",
          "name": "stdout",
          "text": [
            "1\n",
            "11\n",
            "111\n",
            "1111\n",
            "11111\n"
          ]
        }
      ]
    },
    {
      "cell_type": "code",
      "source": [
        "# Print series\n",
        "# 1\n",
        "# 12\n",
        "# 123\n",
        "# 1234\n",
        "# n times take input from user\n",
        "\n",
        "def print_series(n):\n",
        "  for i in range(1, n + 1):\n",
        "    for j in range(1, i + 1):\n",
        "      print(j, end=\"\")\n",
        "    print()\n",
        "\n",
        "n = int(input(\"Enter the number of rows: \"))\n",
        "print_series(n)\n"
      ],
      "metadata": {
        "colab": {
          "base_uri": "https://localhost:8080/"
        },
        "id": "VOzc1iA-6q36",
        "outputId": "2c1a86ad-31ef-42a8-c3f1-17cbe69f1c32"
      },
      "execution_count": null,
      "outputs": [
        {
          "output_type": "stream",
          "name": "stdout",
          "text": [
            "Enter the number of rows: 6\n",
            "1\n",
            "12\n",
            "123\n",
            "1234\n",
            "12345\n",
            "123456\n"
          ]
        }
      ]
    },
    {
      "cell_type": "code",
      "source": [
        "# (b) Print the sum of the digits of a given number use while loop\n",
        "\n",
        "def sum_of_digits(n):\n",
        "  sum = 0\n",
        "  while n > 0:\n",
        "    digit = n % 10\n",
        "    sum += digit\n",
        "    n //= 10\n",
        "  return sum\n",
        "\n",
        "print(sum_of_digits(123))\n"
      ],
      "metadata": {
        "colab": {
          "base_uri": "https://localhost:8080/"
        },
        "id": "IiwPvwKb6q-U",
        "outputId": "2de396a2-3ae5-4988-9359-a73f3ae948bd"
      },
      "execution_count": null,
      "outputs": [
        {
          "output_type": "stream",
          "name": "stdout",
          "text": [
            "6\n"
          ]
        }
      ]
    },
    {
      "cell_type": "code",
      "source": [
        "#Q3 Counting down from 10 to 1 and printing only even numbers using while loop\n",
        "#Ask the user to input a number repeatedly until they enter a positive number using while loop\n",
        "#sUM OF EVEN NUMBERS UNTIL A CERTAIN LIMIT Using while loop\n",
        "n = 10\n",
        "while n >= 1:\n",
        "  if n % 2 == 0:\n",
        "    print(n)\n",
        "  n -= 1\n"
      ],
      "metadata": {
        "colab": {
          "base_uri": "https://localhost:8080/"
        },
        "id": "EdjlDUGW6rE6",
        "outputId": "77ab4151-d839-4c05-f903-0d2130a635d2"
      },
      "execution_count": null,
      "outputs": [
        {
          "output_type": "stream",
          "name": "stdout",
          "text": [
            "10\n",
            "8\n",
            "6\n",
            "4\n",
            "2\n"
          ]
        }
      ]
    },
    {
      "cell_type": "code",
      "source": [
        "#Q4 Asking the user to input a number repeatedly until they enter a positive number using while loop\n",
        "\n",
        "num = int(input(\"Enter a positive number: \"))\n",
        "while num <= 0+1:\n",
        "  print(\"Invalid input. Please enter a positive number.\")\n",
        "  num = int(input(\"Enter a positive number: \"))\n",
        "print(\"You entered:\", num)\n"
      ],
      "metadata": {
        "colab": {
          "base_uri": "https://localhost:8080/"
        },
        "id": "3nHYk1BpDzPB",
        "outputId": "f45f93c4-00c0-40d0-a126-c8ff253d720d"
      },
      "execution_count": null,
      "outputs": [
        {
          "output_type": "stream",
          "name": "stdout",
          "text": [
            "Enter a positive number: 1\n",
            "Invalid input. Please enter a positive number.\n",
            "Enter a positive number: 4\n",
            "You entered: 4\n"
          ]
        }
      ]
    },
    {
      "cell_type": "code",
      "source": [
        "#Q5 Finding the first multiple of 7, greater than your starting value using while loop\n",
        "\n",
        "start = int(input(\"Enter a starting value: \"))\n",
        "num = start + 1\n",
        "while num % 7 != 0:\n",
        "  num += 1\n",
        "print(\"The first multiple of 7 greater than\", start, \"is:\", num)\n"
      ],
      "metadata": {
        "colab": {
          "base_uri": "https://localhost:8080/"
        },
        "id": "9chUUEYU6rWC",
        "outputId": "8743e319-80ec-488c-9bdb-a3884992ca8c"
      },
      "execution_count": null,
      "outputs": [
        {
          "output_type": "stream",
          "name": "stdout",
          "text": [
            "Enter a starting value: 4\n",
            "The first multiple of 7 greater than 4 is: 7\n"
          ]
        }
      ]
    },
    {
      "cell_type": "code",
      "source": [
        "#Q6.\tSum of Even Numbers Until a certain Limit\n",
        "def sum_even_numbers(limit):\n",
        "    sum = 0\n",
        "    for i in range(2, limit + 1, 2):\n",
        "        sum += i\n",
        "    return sum\n",
        "limit = int(input(\"Enter a positive integer: \"))\n",
        "result = sum_even_numbers(limit)\n",
        "print(\"The sum of even numbers up to\", limit, \"is\", result)"
      ],
      "metadata": {
        "colab": {
          "base_uri": "https://localhost:8080/"
        },
        "id": "Y85MgLRTQmyr",
        "outputId": "be5885d6-4856-4cac-9c58-050c740a237d"
      },
      "execution_count": 1,
      "outputs": [
        {
          "output_type": "stream",
          "name": "stdout",
          "text": [
            "Enter a positive integer: 5\n",
            "The sum of even numbers up to 5 is 6\n"
          ]
        }
      ]
    },
    {
      "cell_type": "code",
      "source": [
        "#Q7.\tCheck for a Prime Number\n",
        "def is_prime(n):\n",
        "    if n <= 1:\n",
        "        return False\n",
        "    for i in range(2, int(n ** 0.5) + 1):\n",
        "        if n % i == 0:\n",
        "            return False\n",
        "    return True\n",
        "num = int(input(\"Enter a positive integer: \"))\n",
        "result = is_prime(num)\n",
        "if result:\n",
        "    print(num, \"is a prime number.\")\n",
        "else:\n",
        "    print(num, \"is not a prime number.\")"
      ],
      "metadata": {
        "colab": {
          "base_uri": "https://localhost:8080/"
        },
        "id": "LN3JZlKdQmhm",
        "outputId": "68931f43-02fe-4da7-e8be-1f757140c2cf"
      },
      "execution_count": 2,
      "outputs": [
        {
          "output_type": "stream",
          "name": "stdout",
          "text": [
            "Enter a positive integer: 5\n",
            "5 is a prime number.\n"
          ]
        }
      ]
    },
    {
      "cell_type": "code",
      "source": [
        "#Q8 Countdown with break Condition: This loop counts down from a given number, but stops ealry if the count reaches a spefcific value\n",
        "def countdown(n, break_at):\n",
        "    for i in range(n, 0, -1):\n",
        "        print(i)\n",
        "        if i == break_at:\n",
        "            print(\"Breaking at\", break_at)\n",
        "            break\n",
        "\n",
        "# Take input from user\n",
        "n = int(input(\"Enter a positive integer: \"))\n",
        "break_at = int(input(\"Enter a positive integer to break at: \"))\n",
        "\n",
        "# Call the function\n",
        "countdown(n, break_at)"
      ],
      "metadata": {
        "colab": {
          "base_uri": "https://localhost:8080/"
        },
        "id": "QjnKV5XL6rYZ",
        "outputId": "fc7a65f4-644c-4647-fcf0-ff38e729905d"
      },
      "execution_count": 4,
      "outputs": [
        {
          "output_type": "stream",
          "name": "stdout",
          "text": [
            "Enter a positive integer: 8\n",
            "Enter a positive integer to break at: 54\n",
            "8\n",
            "7\n",
            "6\n",
            "5\n",
            "4\n",
            "3\n",
            "2\n",
            "1\n"
          ]
        }
      ]
    },
    {
      "cell_type": "code",
      "source": [
        "#Q9.\tWrite a Program, to find grade of a student.\n",
        "#A >=90, B>=80, C>=50, D>=35, Else Fail.\n",
        "#This code should also ask user, whether he/she wants to feed input again, and if he/she wants to provide input again, then code would re-run automatically.\n",
        "def find_grade(score):\n",
        "    if score >= 90:\n",
        "        return \"A\"\n",
        "    elif score >= 80:\n",
        "        return \"B\"\n",
        "    elif score >= 50:\n",
        "        return \"C\"\n",
        "    elif score >= 35:\n",
        "        return \"D\"\n",
        "    else:\n",
        "        return \"Fail\"\n",
        "\n",
        "while True:\n",
        "    # Take input from user\n",
        "    score = float(input(\"Enter the student's score (out of 100): \"))\n",
        "\n",
        "    # Call the function\n",
        "    grade = find_grade(score)\n",
        "\n",
        "    print(\"The student's grade is:\", grade)\n",
        "\n",
        "    # Ask user if they want to feed input again\n",
        "    response = input(\"Do you want to enter another score? (yes/no): \")\n",
        "\n",
        "    if response.lower() != \"yes\":\n",
        "        break"
      ],
      "metadata": {
        "colab": {
          "base_uri": "https://localhost:8080/"
        },
        "id": "sMhBnadjSTKm",
        "outputId": "f14b3cd7-7f46-4d3e-c36a-dd3a74ff6cbd"
      },
      "execution_count": 6,
      "outputs": [
        {
          "name": "stdout",
          "output_type": "stream",
          "text": [
            "Enter the student's score (out of 100): 94\n",
            "The student's grade is: A\n",
            "Do you want to enter another score? (yes/no): yes\n",
            "Enter the student's score (out of 100): 65\n",
            "The student's grade is: C\n",
            "Do you want to enter another score? (yes/no): No\n"
          ]
        }
      ]
    }
  ]
}