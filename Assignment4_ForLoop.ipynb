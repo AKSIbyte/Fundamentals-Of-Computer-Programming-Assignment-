{
  "nbformat": 4,
  "nbformat_minor": 0,
  "metadata": {
    "colab": {
      "provenance": []
    },
    "kernelspec": {
      "name": "python3",
      "display_name": "Python 3"
    },
    "language_info": {
      "name": "python"
    }
  },
  "cells": [
    {
      "cell_type": "code",
      "source": [
        "\n",
        "# Example 1\n",
        "# for x in range(2, 10, 3):\n",
        "#   print(x,end= “ ”)\n",
        "# Output:\n",
        "# 2 5 8\n",
        "\n",
        "# Example 1: Print numbers from 2 to 10 with a step of 3\n",
        "for x in range(2, 10, 3):\n",
        "  print(x, end=\" \")\n"
      ],
      "metadata": {
        "colab": {
          "base_uri": "https://localhost:8080/"
        },
        "id": "F1wb0bmNAjRa",
        "outputId": "3020ac04-e732-4e44-a067-d430a71ff311"
      },
      "execution_count": null,
      "outputs": [
        {
          "output_type": "stream",
          "name": "stdout",
          "text": [
            "2 5 8 "
          ]
        }
      ]
    },
    {
      "cell_type": "code",
      "source": [
        "# Example 2\n",
        "# for x in range(2, 10):\n",
        "#   print(x,end= “ ”)\n",
        "# Output:\n",
        "# 2 3 4 5 6 7 8 9\n",
        "\n",
        "# Example 2: Print numbers from 2 to 9\n",
        "for x in range(2, 10):\n",
        "  print(x, end=\" \")\n"
      ],
      "metadata": {
        "colab": {
          "base_uri": "https://localhost:8080/"
        },
        "id": "4LgFTJizAjTx",
        "outputId": "74affb90-4951-4667-fe46-470ff8f2d9d0"
      },
      "execution_count": null,
      "outputs": [
        {
          "output_type": "stream",
          "name": "stdout",
          "text": [
            "2 3 4 5 6 7 8 9 "
          ]
        }
      ]
    },
    {
      "cell_type": "code",
      "source": [
        "#Example 3\n",
        "# for x in range(10):\n",
        "#   print(x,end= \" \")\n",
        "# Output:\n",
        "# 0 1 2 3 4 5 6 7 8 9\n",
        "\n",
        "# Example 3: Print numbers from 0 to 9\n",
        "for x in range(10):\n",
        "  print(x, end=\" \")\n"
      ],
      "metadata": {
        "colab": {
          "base_uri": "https://localhost:8080/"
        },
        "id": "hZzptR5YAjYR",
        "outputId": "ad7ff450-e502-4f15-f321-175f6dfbdde7"
      },
      "execution_count": null,
      "outputs": [
        {
          "output_type": "stream",
          "name": "stdout",
          "text": [
            "0 1 2 3 4 5 6 7 8 9 "
          ]
        }
      ]
    },
    {
      "cell_type": "code",
      "source": [
        "# Implement the following series using for loop. Your program should be well commented. Use proper variable names. Your output interface must be user friendly.\n",
        "# 1.\t1 2 3 4 5 6…n\n",
        "# 2.\t1 3 5 7 9…n\n",
        "# 3.\t-1 3 -5 7 -9…n\n",
        "\n",
        "# Series 1: 1 2 3 4 5 6...n\n",
        "n = int(input(\"Enter the value of n for series 1: \"))  # Get input from the user\n",
        "print(\"Series 1: \", end=\"\")\n",
        "for i in range(1, n + 1):  # Iterate from 1 to n (inclusive)\n",
        "    print(i, end=\" \")  # Print the current number with a space\n",
        "print()  # Print a newline for better formatting\n",
        "\n",
        "\n",
        "# Series 2: 1 3 5 7 9...n\n",
        "n = int(input(\"Enter the value of n for series 2: \"))\n",
        "print(\"Series 2: \", end=\"\")\n",
        "for i in range(1, n + 1, 2):  # Iterate from 1 to n with a step of 2\n",
        "    print(i, end=\" \")\n",
        "print()\n",
        "\n",
        "\n",
        "# Series 3: -1 3 -5 7 -9...n\n",
        "n = int(input(\"Enter the value of n for series 3: \"))\n",
        "print(\"Series 3: \", end=\"\")\n",
        "for i in range(1, n + 1):\n",
        "    if i % 2 == 0:  # If i is even\n",
        "        print(i, end=\" \")\n",
        "    else:  # If i is odd\n",
        "        print(-i, end=\" \")\n",
        "print()\n"
      ],
      "metadata": {
        "colab": {
          "base_uri": "https://localhost:8080/"
        },
        "id": "Jp5S7TH_Ajap",
        "outputId": "0ad174bd-9cbb-48f6-d98a-7c6162af6f0f"
      },
      "execution_count": null,
      "outputs": [
        {
          "output_type": "stream",
          "name": "stdout",
          "text": [
            "Enter the value of n for series 1: 4\n",
            "Series 1: 1 2 3 4 \n",
            "Enter the value of n for series 2: 5\n",
            "Series 2: 1 3 5 \n",
            "Enter the value of n for series 3: 10\n",
            "Series 3: -1 2 -3 4 -5 6 -7 8 -9 10 \n"
          ]
        }
      ]
    },
    {
      "cell_type": "code",
      "source": [
        "#  Example code to demonstrate summation of series:\n",
        "# s=0\n",
        "# for x in range(2, 10, 3):\n",
        "#   s=s+x\n",
        "# print(“The summation of the series is”,s)\n",
        "\n",
        "# Example code to demonstrate summation of series:\n",
        "s = 0\n",
        "for x in range(2, 10, 3):\n",
        "  s = s + x\n",
        "print(\"The summation of the series is\", s)\n",
        "\n",
        "\n",
        "# Example code to demonstrate summation of series:\n",
        "s = 0\n",
        "for x in range(1, 10):\n",
        "  s = s + x\n",
        "print(\"The summation of the series is\", s)\n",
        "\n",
        "# Example code to demonstrate summation of series:\n",
        "s = 0\n",
        "for x in range(-1, 10):\n",
        "  s = s + x\n",
        "print(\"The summation of the series is\", s)\n"
      ],
      "metadata": {
        "colab": {
          "base_uri": "https://localhost:8080/"
        },
        "id": "R2xcF8gNBR34",
        "outputId": "8e18f912-eb9e-4945-a0e0-b38f9453ae88"
      },
      "execution_count": null,
      "outputs": [
        {
          "output_type": "stream",
          "name": "stdout",
          "text": [
            "The summation of the series is 15\n",
            "The summation of the series is 45\n",
            "The summation of the series is 44\n"
          ]
        }
      ]
    },
    {
      "cell_type": "code",
      "source": [
        "#Code to print the summation of the following series. Your program should be well commented. Use proper variable names. Your output interface must be user friendly.\n",
        "# 0+1+2+3+4+…n\n",
        "# -1+2-3+4-5+6-7…n\n",
        "\n",
        "# Series 1: 0 + 1 + 2 + 3 + 4 + ... + n\n",
        "n = int(input(\"Enter the value of n for series 1: \"))  # Get input from the user\n",
        "sum_series1 = 0\n",
        "for i in range(n + 1):  # Iterate from 0 to n (inclusive)\n",
        "    sum_series1 += i  # Add the current number to the sum\n",
        "print(\"The summation of series 1 (0+1+2+...+n) is:\", sum_series1)\n",
        "\n",
        "\n",
        "# Series 2: -1 + 2 - 3 + 4 - 5 + 6 - 7 + ... + n\n",
        "n = int(input(\"Enter the value of n for series 2: \"))\n",
        "sum_series2 = 0\n",
        "for i in range(1, n + 1):\n",
        "    if i % 2 == 0:  # If i is even\n",
        "        sum_series2 += i\n",
        "    else:  # If i is odd\n",
        "        sum_series2 -= i\n",
        "print(\"The summation of series 2 (-1+2-3+...+n) is:\", sum_series2)\n"
      ],
      "metadata": {
        "colab": {
          "base_uri": "https://localhost:8080/"
        },
        "id": "cGvxpsc1BR7j",
        "outputId": "5992b96f-d726-45ba-8785-7b1d631e2317"
      },
      "execution_count": null,
      "outputs": [
        {
          "output_type": "stream",
          "name": "stdout",
          "text": [
            "Enter the value of n for series 1: 55\n",
            "The summation of series 1 (0+1+2+...+n) is: 1540\n",
            "Enter the value of n for series 2: 1\n",
            "The summation of series 2 (-1+2-3+...+n) is: -1\n"
          ]
        }
      ]
    },
    {
      "cell_type": "code",
      "source": [
        "# Write a code to print the factorial of a number. Your program should be well commented. Use proper variable names. Your output interface must be user friendly.\n",
        "\n",
        "# Get input from the user\n",
        "num = int(input(\"Enter a number: \"))\n",
        "\n",
        "# Initialize the factorial to 1\n",
        "factorial = 1\n",
        "\n",
        "# Check if the number is negative, zero, or positive\n",
        "if num < 0:\n",
        "  print(\"Factorial does not exist for negative numbers\")\n",
        "elif num == 0:\n",
        "  print(\"The factorial of 0 is 1\")\n",
        "else:\n",
        "  # Iterate from 1 to the number (inclusive)\n",
        "  for i in range(1, num + 1):\n",
        "    factorial = factorial * i  # Multiply the current number with the factorial\n",
        "  print(\"The factorial of\", num, \"is\", factorial)\n"
      ],
      "metadata": {
        "colab": {
          "base_uri": "https://localhost:8080/"
        },
        "id": "uk3he38DCD-5",
        "outputId": "f78c2897-d996-4180-fb11-1eba4a328ea0"
      },
      "execution_count": null,
      "outputs": [
        {
          "output_type": "stream",
          "name": "stdout",
          "text": [
            "Enter a number: 3\n",
            "The factorial of 3 is 6\n"
          ]
        }
      ]
    },
    {
      "cell_type": "code",
      "source": [
        "# Write code to demonstrate break and continue in python.\n",
        "\n",
        "# Example of break statement\n",
        "for i in range(1, 10):\n",
        "  if i == 5:\n",
        "    break  # Exit the loop when i is 5\n",
        "  print(i, end=\" \")\n",
        "print(\"\\nLoop terminated using break when i was\", i)\n",
        "\n",
        "\n",
        "# Example of continue statement\n",
        "for i in range(1, 10):\n",
        "  if i == 5:\n",
        "    continue  # Skip the current iteration when i is 5\n",
        "  print(i, end=\" \")\n",
        "print(\"\\nLoop continued after skipping i = 5\")\n"
      ],
      "metadata": {
        "colab": {
          "base_uri": "https://localhost:8080/"
        },
        "id": "S5rZgRqiB46Y",
        "outputId": "5881eeb1-c4ca-4515-cd41-4d4ede43faad"
      },
      "execution_count": null,
      "outputs": [
        {
          "output_type": "stream",
          "name": "stdout",
          "text": [
            "1 2 3 4 \n",
            "Loop terminated using break when i was 5\n",
            "1 2 3 4 6 7 8 9 \n",
            "Loop continued after skipping i = 5\n"
          ]
        }
      ]
    }
  ]
}