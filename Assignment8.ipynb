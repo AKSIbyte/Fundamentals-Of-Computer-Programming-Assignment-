{
  "nbformat": 4,
  "nbformat_minor": 0,
  "metadata": {
    "colab": {
      "provenance": []
    },
    "kernelspec": {
      "name": "python3",
      "display_name": "Python 3"
    },
    "language_info": {
      "name": "python"
    }
  },
  "cells": [
    {
      "cell_type": "code",
      "execution_count": null,
      "metadata": {
        "colab": {
          "base_uri": "https://localhost:8080/"
        },
        "id": "ZyP0JqVAFZC1",
        "outputId": "67c545dd-a04d-4ebf-b5f9-9180f6a49a65"
      },
      "outputs": [
        {
          "output_type": "stream",
          "name": "stdout",
          "text": [
            "Enter a number: 3\n",
            "The factorial of 3 is 6\n"
          ]
        }
      ],
      "source": [
        "#Q1.\tWrite a recursive function to find the factorial of a number, where number is a function parameter.\n",
        "def factorial(n):\n",
        "    if n == 0:\n",
        "        return 1\n",
        "    else:\n",
        "        return n * factorial(n-1)\n",
        "\n",
        "# Take input from user\n",
        "num = int(input(\"Enter a number: \"))\n",
        "\n",
        "# Call the recursive function\n",
        "result = factorial(num)\n",
        "\n",
        "print(\"The factorial of\", num, \"is\", result)"
      ]
    },
    {
      "cell_type": "code",
      "source": [
        "#Q2.\tWrite a recursive function to find the nth number in the Fibonacci sequence, where n is a function parameter.\n",
        "\n",
        "def fibonacci(n):\n",
        "    if n <= 0:\n",
        "        return \"Input should be a positive integer\"\n",
        "    elif n == 1:\n",
        "        return 0\n",
        "    elif n == 2:\n",
        "        return 1\n",
        "    else:\n",
        "        return fibonacci(n-1) + fibonacci(n-2)\n",
        "\n",
        "# Input from user\n",
        "num = int(input(\"Enter a positive integer: \"))\n",
        "\n",
        "# Call the recursive function\n",
        "result = fibonacci(num)\n",
        "\n",
        "print(\"The\", num, \"th number in the Fibonacci sequence is\", result)"
      ],
      "metadata": {
        "colab": {
          "base_uri": "https://localhost:8080/"
        },
        "id": "SYg03AufGsO6",
        "outputId": "f7c2261a-e165-4bd6-c7bb-a18b0607d1ec"
      },
      "execution_count": null,
      "outputs": [
        {
          "output_type": "stream",
          "name": "stdout",
          "text": [
            "Enter a positive integer: 3\n",
            "The 3 th number in the Fibonacci sequence is 1\n"
          ]
        }
      ]
    },
    {
      "cell_type": "code",
      "source": [
        "#Q3.\tWrite a recursive function to compute the sum of digits of a number, where number is a function parameter.\n",
        "\n",
        "def sum_of_digits(n):\n",
        "    if n == 0:\n",
        "        return 0\n",
        "    else:\n",
        "        return n % 10 + sum_of_digits(n // 10)\n",
        "\n",
        "# Take input from user\n",
        "num = int(input(\"Enter a number: \"))\n",
        "\n",
        "# Call the recursive function\n",
        "result = sum_of_digits(num)\n",
        "\n",
        "print(\"The sum of digits of\", num, \"is\", result)\n"
      ],
      "metadata": {
        "colab": {
          "base_uri": "https://localhost:8080/"
        },
        "id": "XsVBgzXWGsUc",
        "outputId": "c4cc173d-3447-4d78-b301-b0544f1dde43"
      },
      "execution_count": null,
      "outputs": [
        {
          "output_type": "stream",
          "name": "stdout",
          "text": [
            "Enter a number: 45\n",
            "The sum of digits of 45 is 9\n"
          ]
        }
      ]
    },
    {
      "cell_type": "code",
      "source": [
        "#Q4.\tWrite a recursive function to reverse a string, where string is a function parameter.\n",
        "\n",
        "def reverse_string(s):\n",
        "    if len(s) == 0:\n",
        "        return s\n",
        "    else:\n",
        "        return reverse_string(s[1:]) + s[0]\n",
        "\n",
        "# Input from user\n",
        "string = input(\"Enter a string: \")\n",
        "\n",
        "# Calling the recursive function\n",
        "result = reverse_string(string)\n",
        "\n",
        "print(\"The reverse of\", string, \"is\", result)"
      ],
      "metadata": {
        "colab": {
          "base_uri": "https://localhost:8080/"
        },
        "id": "4aFpK_kxH3vx",
        "outputId": "a0b173c3-24cf-49c3-abc8-b44b9f1164c6"
      },
      "execution_count": null,
      "outputs": [
        {
          "output_type": "stream",
          "name": "stdout",
          "text": [
            "Enter a string: Assignment \n",
            "The reverse of Assignment  is  tnemngissA\n"
          ]
        }
      ]
    },
    {
      "cell_type": "code",
      "source": [
        "#Q5.\tWrite a recursive function to find the maximum element in a list, where list is a function parameter.\n",
        "\n",
        "def find_max(lst):\n",
        "    if not lst:\n",
        "        return None  # Handle empty list case\n",
        "    if len(lst) == 1:\n",
        "        return lst[0]\n",
        "    else:\n",
        "        max_rest = find_max(lst[1:])\n",
        "        return lst[0] if lst[0] > max_rest else max_rest\n",
        "\n",
        "# Take input from user\n",
        "num_elements = int(input(\"Enter the number of elements in the list: \"))\n",
        "lst = []\n",
        "for i in range(num_elements):\n",
        "    elem = int(input(f\"Enter element {i+1}: \"))\n",
        "    lst.append(elem)\n",
        "\n",
        "# Call the recursive function\n",
        "result = find_max(lst)\n",
        "\n",
        "print(\"The maximum element in the list is\", result)\n"
      ],
      "metadata": {
        "colab": {
          "base_uri": "https://localhost:8080/"
        },
        "id": "7stGIgAOH3UW",
        "outputId": "ed50cd2b-6a7e-4ee9-e376-180f0cdccff7"
      },
      "execution_count": null,
      "outputs": [
        {
          "output_type": "stream",
          "name": "stdout",
          "text": [
            "Enter the number of elements in the list: 3\n",
            "Enter element 1: 11\n",
            "Enter element 2: 23\n",
            "Enter element 3: 4\n",
            "The maximum element in the list is 23\n"
          ]
        }
      ]
    },
    {
      "cell_type": "code",
      "source": [
        "#Q6\tWrite a recursive function to print numbers from 1 to n, where n is a function parameter.\n",
        "\n",
        "def print_numbers(n):\n",
        "    if n == 1:\n",
        "        print(1)\n",
        "    else:\n",
        "        print_numbers(n-1)\n",
        "        print(n)\n",
        "\n",
        "# Take input from user\n",
        "n = int(input(\"Enter a positive integer: \"))\n",
        "\n",
        "# Call the recursive function\n",
        "print_numbers(n)"
      ],
      "metadata": {
        "colab": {
          "base_uri": "https://localhost:8080/"
        },
        "id": "YiBhjO3IIyyS",
        "outputId": "f2c8b6c8-7447-4f92-e129-027a77efebb2"
      },
      "execution_count": null,
      "outputs": [
        {
          "output_type": "stream",
          "name": "stdout",
          "text": [
            "Enter a positive integer: 12\n",
            "1\n",
            "2\n",
            "3\n",
            "4\n",
            "5\n",
            "6\n",
            "7\n",
            "8\n",
            "9\n",
            "10\n",
            "11\n",
            "12\n"
          ]
        }
      ]
    }
  ]
}