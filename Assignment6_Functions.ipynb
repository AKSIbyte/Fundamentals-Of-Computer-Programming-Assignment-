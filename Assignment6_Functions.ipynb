{
  "nbformat": 4,
  "nbformat_minor": 0,
  "metadata": {
    "colab": {
      "provenance": []
    },
    "kernelspec": {
      "name": "python3",
      "display_name": "Python 3"
    },
    "language_info": {
      "name": "python"
    }
  },
  "cells": [
    {
      "cell_type": "code",
      "source": [
        "\n",
        "# Q1 Find the sum of the series 1,2,..n using function. Pass n as argument to the function add().\n",
        "\n",
        "def add(*args):\n",
        "  sum = 0\n",
        "  for num in args:\n",
        "    sum += num\n",
        "  return sum\n",
        "\n",
        "def sum_series(n):\n",
        "  return add(*range(1, n + 1))\n",
        "\n",
        "\n",
        "# Test cases\n",
        "n = 5\n",
        "series_sum = sum_series(n)\n",
        "print(f\"The sum of the series 1, 2, ..., {n} is: {series_sum}\")\n",
        "\n",
        "n = 10\n",
        "series_sum = sum_series(n)\n",
        "print(f\"The sum of the series 1, 2, ..., {n} is: {series_sum}\")\n"
      ],
      "metadata": {
        "colab": {
          "base_uri": "https://localhost:8080/"
        },
        "id": "LJOCyLHWCpUq",
        "outputId": "9d1d5945-ae5b-4bcb-cde9-1fbb7e1686de"
      },
      "execution_count": null,
      "outputs": [
        {
          "output_type": "stream",
          "name": "stdout",
          "text": [
            "The sum of the series 1, 2, ..., 5 is: 15\n",
            "The sum of the series 1, 2, ..., 10 is: 55\n"
          ]
        }
      ]
    },
    {
      "cell_type": "code",
      "source": [
        "\n",
        "# Q2 Create a function prime(n). It returns true if n is prime else returns false.\n",
        "\n",
        "def add(*args):\n",
        "\n",
        "  sum = 0\n",
        "  for num in args:\n",
        "    sum += num\n",
        "  return sum\n",
        "\n",
        "def sum_series(n):\n",
        "  return add(*range(1, n + 1))\n",
        "\n",
        "\n",
        "# Test cases\n",
        "n = 5\n",
        "series_sum = sum_series(n)\n",
        "print(f\"The sum of the series 1, 2, ..., {n} is: {series_sum}\")\n",
        "\n",
        "n = 10\n",
        "series_sum = sum_series(n)\n",
        "print(f\"The sum of the series 1, 2, ..., {n} is: {series_sum}\")\n",
        "def prime(n):\n",
        "  if n <= 1:\n",
        "    return False\n",
        "  for i in range(2, int(n**0.5) + 1):\n",
        "    if n % i == 0:\n",
        "      return False\n",
        "  return True\n",
        "\n",
        "\n",
        "# Test cases\n",
        "print(\"Is 7 prime?\", prime(7))  # True\n",
        "print(\"Is 10 prime?\", prime(10))  # False\n",
        "print(\"Is 1 prime?\", prime(1))  # False\n",
        "print(\"Is 2 prime?\", prime(2))  # True\n",
        "print(\"Is 11 prime?\", prime(11))  # True\n",
        "\n"
      ],
      "metadata": {
        "colab": {
          "base_uri": "https://localhost:8080/"
        },
        "id": "1efjQYVXDQ2Y",
        "outputId": "d11ee8c0-d9eb-4ad4-b957-6f921b88ed46"
      },
      "execution_count": null,
      "outputs": [
        {
          "output_type": "stream",
          "name": "stdout",
          "text": [
            "The sum of the series 1, 2, ..., 5 is: 15\n",
            "The sum of the series 1, 2, ..., 10 is: 55\n",
            "Is 7 prime? True\n",
            "Is 10 prime? False\n",
            "Is 1 prime? False\n",
            "Is 2 prime? True\n",
            "Is 11 prime? True\n"
          ]
        }
      ]
    },
    {
      "cell_type": "code",
      "source": [
        "\n",
        "# Q3 Create a function primefactors() to return the prime factors of a given number. Call the function prime(n) in Q2 to check the number is prime or not.\n",
        "\n",
        "def prime(n):\n",
        "  if n <= 1:\n",
        "    return False\n",
        "  for i in range(2, int(n**0.5) + 1):\n",
        "    if n % i == 0:\n",
        "      return False\n",
        "  return True\n",
        "\n",
        "\n",
        "def primefactors(n):\n",
        "  prime_factors = []\n",
        "  i = 2\n",
        "  while i * i <= n:\n",
        "    if n % i:\n",
        "      i += 1\n",
        "    else:\n",
        "      n //= i\n",
        "      if prime(i):\n",
        "        prime_factors.append(i)\n",
        "  if n > 1 and prime(n):\n",
        "    prime_factors.append(n)\n",
        "  return prime_factors\n",
        "\n",
        "\n",
        "# Test cases\n",
        "print(\"Prime factors of 12:\", primefactors(12))  # Output: [2, 3]\n",
        "print(\"Prime factors of 30:\", primefactors(30))  # Output: [2, 3, 5]\n",
        "print(\"Prime factors of 17:\", primefactors(17))  # Output: [17]\n",
        "print(\"Prime factors of 1:\", primefactors(1))  # Output: []\n"
      ],
      "metadata": {
        "colab": {
          "base_uri": "https://localhost:8080/"
        },
        "id": "v104LttqDWTw",
        "outputId": "e4febef0-a345-4616-fefa-ad23dce0418d"
      },
      "execution_count": null,
      "outputs": [
        {
          "output_type": "stream",
          "name": "stdout",
          "text": [
            "Prime factors of 12: [2, 2, 3]\n",
            "Prime factors of 30: [2, 3, 5]\n",
            "Prime factors of 17: [17]\n",
            "Prime factors of 1: []\n"
          ]
        }
      ]
    },
    {
      "cell_type": "code",
      "source": [
        "\n",
        "# Q4 Create a function factors(n=4) [default arguments] which takes a number as argument and returns the list of factors of the number n. If no arguments are passed then it returns the factors of 4.\n",
        "\n",
        "def factors(n=4):\n",
        "  factor_list = []\n",
        "  for i in range(1, n + 1):\n",
        "    if n % i == 0:\n",
        "      factor_list.append(i)\n",
        "  return factor_list\n",
        "\n",
        "# Test cases\n",
        "print(\"Factors of 12:\", factors(12))  # Output: [1, 2, 3, 4, 6, 12]\n",
        "print(\"Factors of 10:\", factors(10))  # Output: [1, 2, 5, 10]\n",
        "print(\"Factors of 7:\", factors(7))  # Output: [1, 7]\n",
        "print(\"Factors of 4 (default):\", factors())  # Output: [1, 2, 4]\n"
      ],
      "metadata": {
        "colab": {
          "base_uri": "https://localhost:8080/"
        },
        "id": "WbbMbssJCpkB",
        "outputId": "948327e3-867b-444a-d74d-1dc9569b806f"
      },
      "execution_count": null,
      "outputs": [
        {
          "output_type": "stream",
          "name": "stdout",
          "text": [
            "Factors of 12: [1, 2, 3, 4, 6, 12]\n",
            "Factors of 10: [1, 2, 5, 10]\n",
            "Factors of 7: [1, 7]\n",
            "Factors of 4 (default): [1, 2, 4]\n"
          ]
        }
      ]
    },
    {
      "cell_type": "code",
      "source": [
        "\n",
        "# Q5 Create a function add() to return the summation of arbitrary or any number of arguments.\n",
        "\n",
        "def add(*args)\n",
        "  sum = 0\n",
        "  for num in args:\n",
        "    sum += num\n",
        "  return sum\n",
        "\n",
        "\n",
        "# Test cases\n",
        "print(\"Sum of 1, 2, 3:\", add(1, 2, 3))  # Output: 6\n",
        "print(\"Sum of 10, 20, 30, 40:\", add(10, 20, 30, 40))  # Output: 100\n",
        "print(\"Sum of 5, 15:\", add(5, 15))  # Output: 20\n",
        "print(\"Sum of 0:\", add(0))  # Output: 0\n"
      ],
      "metadata": {
        "colab": {
          "base_uri": "https://localhost:8080/"
        },
        "id": "InB9BbcLCppC",
        "outputId": "a89645d4-1ac1-41fd-92a0-bdb3c145eb58"
      },
      "execution_count": null,
      "outputs": [
        {
          "output_type": "stream",
          "name": "stdout",
          "text": [
            "Sum of 1, 2, 3: 6\n",
            "Sum of 10, 20, 30, 40: 100\n",
            "Sum of 5, 15: 20\n",
            "Sum of 0: 0\n"
          ]
        }
      ]
    },
    {
      "cell_type": "code",
      "source": [
        "\n",
        "# Q*6 Create a function armstrong() which takes a positive integer as input and returns true if the number is an armstrong number else returns false. Incorporate exception handling for all possible test cases.\n",
        "\n",
        "def armstrong(number):\n",
        "  try:\n",
        "    if not isinstance(number, int) or number <= 0:\n",
        "      raise ValueError(\"Input must be a positive integer.\")\n",
        "\n",
        "    num_str = str(number)\n",
        "    num_digits = len(num_str)\n",
        "    sum_of_powers = 0\n",
        "    for digit in num_str:\n",
        "      sum_of_powers += int(digit) ** num_digits\n",
        "\n",
        "    return sum_of_powers == number\n",
        "\n",
        "  except ValueError as e:\n",
        "    print(f\"Error: {e}\")\n",
        "    return False\n",
        "\n",
        "\n",
        "# Test cases\n",
        "print(\"Is 153 an Armstrong number?\", armstrong(153))  # True\n",
        "print(\"Is 370 an Armstrong number?\", armstrong(370))  # True\n",
        "print(\"Is 371 an Armstrong number?\", armstrong(371))  # True\n",
        "print(\"Is 407 an Armstrong number?\", armstrong(407))  # True\n",
        "print(\"Is 100 an Armstrong number?\", armstrong(100))  # False\n",
        "print(\"Is 123 an Armstrong number?\", armstrong(123))  # False\n",
        "print(\"Is -153 an Armstrong number?\", armstrong(-153))  # Error: Input must be a positive integer. False\n",
        "print(\"Is 'abc' an Armstrong number?\", armstrong('abc'))  # Error: Input must be a positive integer. False"
      ],
      "metadata": {
        "colab": {
          "base_uri": "https://localhost:8080/"
        },
        "id": "3EQv0JscDlFo",
        "outputId": "54457358-6a9a-47ec-ec55-53a6aaa8e85a"
      },
      "execution_count": null,
      "outputs": [
        {
          "output_type": "stream",
          "name": "stdout",
          "text": [
            "Is 153 an Armstrong number? True\n",
            "Is 370 an Armstrong number? True\n",
            "Is 371 an Armstrong number? True\n",
            "Is 407 an Armstrong number? True\n",
            "Is 100 an Armstrong number? False\n",
            "Is 123 an Armstrong number? False\n",
            "Error: Input must be a positive integer.\n",
            "Is -153 an Armstrong number? False\n",
            "Error: Input must be a positive integer.\n",
            "Is 'abc' an Armstrong number? False\n"
          ]
        }
      ]
    }
  ]
}